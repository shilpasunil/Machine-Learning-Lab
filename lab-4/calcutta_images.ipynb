{
 "cells": [
  {
   "cell_type": "markdown",
   "metadata": {},
   "source": [
    "IMPORT NECCESARY PACKAGES"
   ]
  },
  {
   "cell_type": "code",
   "execution_count": 73,
   "metadata": {},
   "outputs": [],
   "source": [
    "from PIL import Image\n",
    "import pandas as pd\n",
    "import numpy as np \n",
    "import matplotlib.pyplot as plt"
   ]
  },
  {
   "cell_type": "markdown",
   "metadata": {},
   "source": [
    "MANUALY SELECT THE PIXEL COORDINATES OF RIVER AND NON RIVER REGION "
   ]
  },
  {
   "cell_type": "code",
   "execution_count": 74,
   "metadata": {},
   "outputs": [],
   "source": [
    "Xcord_Riv=[146, 151, 158, 152, 159, 165, 158, 165, 170, 172, 169, 177, 180, 178, 179, 171, 159, 165, 165, 171, 180, 177, 194, 199, 202, 211, 221, 227, 224, 215, 206, 198, 190, 186, 188, 188, 181, 181, 175, 166, 155, 148, 144, 141, 155, 165, 162, 171, 203, 195]\n",
    "\n",
    "Ycord_Riv=[9, 9, 13, 22, 26, 31, 45, 44, 45, 56, 67, 69, 83, 97, 119, 140, 160, 167, 191, 209, 218, 228, 247, 256, 271, 280, 294, 311, 339, 349, 352, 361, 376, 383, 399, 407, 424, 436, 452, 468, 485, 497, 504, 505, 493, 481, 475, 466, 352, 364]\n",
    "\n",
    "Xcord_NonRiv=[16, 58, 109, 128, 137, 78, 48, 30, 21, 75, 137, 142, 143, 84, 45, 21, 36, 131, 170, 180, 150, 121, 14, 38, 43, 98, 208, 291, 318, 399, 454, 480, 373, 275, 257, 277, 349, 430, 456, 367, 324, 257, 218, 243, 356, 442, 471, 463, 391, 294, 217, 223, 302, 407, 450, 441, 344, 319, 332, 416, 438, 366, 310, 292, 264, 294, 84, 138, 152, 135, 87, 50, 51, 102, 123, 62, 39, 77, 113, 112, 48, 44, 54, 120, 252, 260, 365, 418, 386, 440, 487, 476, 404, 403, 453, 492, 343, 335, 400, 458]\n",
    "\n",
    "Ycord_NonRiv=[8, 10, 13, 24, 68, 56, 68, 85, 124, 124, 128, 135, 174, 184, 200, 234, 263, 270, 283, 326, 364, 333, 338, 416, 467, 461, 474, 476, 480, 472, 438, 392, 399, 428, 394, 331, 331, 314, 260, 252, 262, 223, 194, 160, 170, 170, 102, 68, 62, 95, 57, 27, 25, 27, 69, 165, 133, 189, 256, 329, 397, 446, 446, 425, 364, 300, 276, 307, 353, 427, 453, 433, 357, 306, 276, 273, 242, 191, 165, 120, 118, 76, 38, 35, 59, 27, 28, 26, 42, 76, 67, 126, 146, 195, 231, 276, 301, 307, 352, 356]\n"
   ]
  },
  {
   "cell_type": "markdown",
   "metadata": {},
   "source": [
    "OPEN REQUIRED IMAGES USING Image.open FUNCTION"
   ]
  },
  {
   "cell_type": "code",
   "execution_count": 75,
   "metadata": {},
   "outputs": [],
   "source": [
    "im = Image.open(\"band1.gif\") \n",
    "im2= Image.open(\"band2.gif\") \n",
    "im3= Image.open(\"band3.gif\") \n",
    "im4= Image.open(\"band4.gif\") "
   ]
  },
  {
   "cell_type": "code",
   "execution_count": 76,
   "metadata": {},
   "outputs": [],
   "source": [
    "riv_len=len(Xcord_Riv)\n",
    "nriv_len=len(Xcord_NonRiv)"
   ]
  },
  {
   "cell_type": "markdown",
   "metadata": {},
   "source": [
    "CREATE RIVER CLASS DATAFRAME ( CONTAINING PIXEL VALUES OF CHOOSEN PIXEL LOCATIONS FOR EACH IMAGES) USING getpixel() FUNCTION"
   ]
  },
  {
   "cell_type": "code",
   "execution_count": 77,
   "metadata": {},
   "outputs": [],
   "source": [
    "band1_R=[]\n",
    "band2_R=[]\n",
    "band3_R=[]\n",
    "band4_R=[]\n",
    "for i in range(riv_len):\n",
    "    cordinate=x,y=Xcord_Riv[i],Ycord_Riv[i]\n",
    "    band1_R.append(im.getpixel(cordinate))\n",
    "    band2_R.append(im2.getpixel(cordinate))\n",
    "    band3_R.append(im3.getpixel(cordinate))\n",
    "    band4_R.append(im4.getpixel(cordinate))\n",
    "River_class=pd.DataFrame([band1_R,band2_R,band3_R,band4_R], index=[\"band1\",\"band2\",\"band3\",\"band4\"]).T"
   ]
  },
  {
   "cell_type": "code",
   "execution_count": 78,
   "metadata": {},
   "outputs": [
    {
     "data": {
      "text/plain": [
       "band1    12.12\n",
       "band2    14.04\n",
       "band3    17.26\n",
       "band4     7.08\n",
       "dtype: float64"
      ]
     },
     "execution_count": 78,
     "metadata": {},
     "output_type": "execute_result"
    }
   ],
   "source": [
    "mean_R=River_class.mean()\n",
    "mean_R"
   ]
  },
  {
   "cell_type": "code",
   "execution_count": 79,
   "metadata": {
    "scrolled": false
   },
   "outputs": [
    {
     "data": {
      "text/html": [
       "<div>\n",
       "<style scoped>\n",
       "    .dataframe tbody tr th:only-of-type {\n",
       "        vertical-align: middle;\n",
       "    }\n",
       "\n",
       "    .dataframe tbody tr th {\n",
       "        vertical-align: top;\n",
       "    }\n",
       "\n",
       "    .dataframe thead th {\n",
       "        text-align: right;\n",
       "    }\n",
       "</style>\n",
       "<table border=\"1\" class=\"dataframe\">\n",
       "  <thead>\n",
       "    <tr style=\"text-align: right;\">\n",
       "      <th></th>\n",
       "      <th>band1</th>\n",
       "      <th>band2</th>\n",
       "      <th>band3</th>\n",
       "      <th>band4</th>\n",
       "    </tr>\n",
       "  </thead>\n",
       "  <tbody>\n",
       "    <tr>\n",
       "      <th>band1</th>\n",
       "      <td>1.046531</td>\n",
       "      <td>0.709388</td>\n",
       "      <td>0.682449</td>\n",
       "      <td>0.051429</td>\n",
       "    </tr>\n",
       "    <tr>\n",
       "      <th>band2</th>\n",
       "      <td>0.709388</td>\n",
       "      <td>0.896327</td>\n",
       "      <td>0.683265</td>\n",
       "      <td>-0.105306</td>\n",
       "    </tr>\n",
       "    <tr>\n",
       "      <th>band3</th>\n",
       "      <td>0.682449</td>\n",
       "      <td>0.683265</td>\n",
       "      <td>0.808571</td>\n",
       "      <td>-0.082449</td>\n",
       "    </tr>\n",
       "    <tr>\n",
       "      <th>band4</th>\n",
       "      <td>0.051429</td>\n",
       "      <td>-0.105306</td>\n",
       "      <td>-0.082449</td>\n",
       "      <td>1.095510</td>\n",
       "    </tr>\n",
       "  </tbody>\n",
       "</table>\n",
       "</div>"
      ],
      "text/plain": [
       "          band1     band2     band3     band4\n",
       "band1  1.046531  0.709388  0.682449  0.051429\n",
       "band2  0.709388  0.896327  0.683265 -0.105306\n",
       "band3  0.682449  0.683265  0.808571 -0.082449\n",
       "band4  0.051429 -0.105306 -0.082449  1.095510"
      ]
     },
     "execution_count": 79,
     "metadata": {},
     "output_type": "execute_result"
    }
   ],
   "source": [
    "cov_R=River_class.cov()\n",
    "cov_R"
   ]
  },
  {
   "cell_type": "code",
   "execution_count": null,
   "metadata": {},
   "outputs": [],
   "source": [
    "CREATE NON RIVER CLASS DATAFRAME ( CONTAINING PIXEL VALUES OF CHOOSEN PIXEL LOCATIONS FOR EACH IMAGES) USING getpixel() FUNCTION"
   ]
  },
  {
   "cell_type": "code",
   "execution_count": 80,
   "metadata": {},
   "outputs": [],
   "source": [
    "band1_NR=[]\n",
    "band2_NR=[]\n",
    "band3_NR=[]\n",
    "band4_NR=[]\n",
    "for i in range(nriv_len):\n",
    "    cordinate=x,y=Xcord_NonRiv[i],Xcord_NonRiv[i]\n",
    "    band1_NR.append(im.getpixel(cordinate))\n",
    "    band2_NR.append(im2.getpixel(cordinate))\n",
    "    band3_NR.append(im3.getpixel(cordinate))\n",
    "    band4_NR.append(im4.getpixel(cordinate))\n",
    "NRiver_class=pd.DataFrame([band1_NR,band2_NR,band3_NR,band4_NR], index=[\"band1\",\"band2\",\"band3\",\"band4\"]).T"
   ]
  },
  {
   "cell_type": "code",
   "execution_count": 81,
   "metadata": {
    "scrolled": true
   },
   "outputs": [
    {
     "data": {
      "text/plain": [
       "band1     8.72\n",
       "band2     9.61\n",
       "band3    12.06\n",
       "band4    19.39\n",
       "dtype: float64"
      ]
     },
     "execution_count": 81,
     "metadata": {},
     "output_type": "execute_result"
    }
   ],
   "source": [
    "mean_NR=NRiver_class.mean()\n",
    "mean_NR"
   ]
  },
  {
   "cell_type": "code",
   "execution_count": 82,
   "metadata": {
    "scrolled": true
   },
   "outputs": [
    {
     "data": {
      "text/html": [
       "<div>\n",
       "<style scoped>\n",
       "    .dataframe tbody tr th:only-of-type {\n",
       "        vertical-align: middle;\n",
       "    }\n",
       "\n",
       "    .dataframe tbody tr th {\n",
       "        vertical-align: top;\n",
       "    }\n",
       "\n",
       "    .dataframe thead th {\n",
       "        text-align: right;\n",
       "    }\n",
       "</style>\n",
       "<table border=\"1\" class=\"dataframe\">\n",
       "  <thead>\n",
       "    <tr style=\"text-align: right;\">\n",
       "      <th></th>\n",
       "      <th>band1</th>\n",
       "      <th>band2</th>\n",
       "      <th>band3</th>\n",
       "      <th>band4</th>\n",
       "    </tr>\n",
       "  </thead>\n",
       "  <tbody>\n",
       "    <tr>\n",
       "      <th>band1</th>\n",
       "      <td>8.446061</td>\n",
       "      <td>7.556364</td>\n",
       "      <td>12.289697</td>\n",
       "      <td>10.413333</td>\n",
       "    </tr>\n",
       "    <tr>\n",
       "      <th>band2</th>\n",
       "      <td>7.556364</td>\n",
       "      <td>7.553434</td>\n",
       "      <td>11.963030</td>\n",
       "      <td>10.790000</td>\n",
       "    </tr>\n",
       "    <tr>\n",
       "      <th>band3</th>\n",
       "      <td>12.289697</td>\n",
       "      <td>11.963030</td>\n",
       "      <td>22.703434</td>\n",
       "      <td>19.279394</td>\n",
       "    </tr>\n",
       "    <tr>\n",
       "      <th>band4</th>\n",
       "      <td>10.413333</td>\n",
       "      <td>10.790000</td>\n",
       "      <td>19.279394</td>\n",
       "      <td>51.391818</td>\n",
       "    </tr>\n",
       "  </tbody>\n",
       "</table>\n",
       "</div>"
      ],
      "text/plain": [
       "           band1      band2      band3      band4\n",
       "band1   8.446061   7.556364  12.289697  10.413333\n",
       "band2   7.556364   7.553434  11.963030  10.790000\n",
       "band3  12.289697  11.963030  22.703434  19.279394\n",
       "band4  10.413333  10.790000  19.279394  51.391818"
      ]
     },
     "execution_count": 82,
     "metadata": {},
     "output_type": "execute_result"
    }
   ],
   "source": [
    "cov_NR=NRiver_class.cov()\n",
    "cov_NR"
   ]
  },
  {
   "cell_type": "markdown",
   "metadata": {},
   "source": [
    "CREATE TEST DATA(CONTAINING ALL PIXEL VALUES OF EACH IMAGE)"
   ]
  },
  {
   "cell_type": "code",
   "execution_count": 83,
   "metadata": {},
   "outputs": [],
   "source": [
    "test_data=[]\n",
    "t=[]\n",
    "for i in range(512):\n",
    "    for j in range(512):\n",
    "        cordinate=x,y=i,j\n",
    "        x=[im.getpixel(cordinate),im2.getpixel(cordinate),im3.getpixel(cordinate),im4.getpixel(cordinate)]\n",
    "        test_data.append(x)\n",
    "test_data=pd.DataFrame(test_data).T\n",
    "band=[\"band1\",\"band2\",\"band3\",\"band4\"]\n",
    "test_data.index=band"
   ]
  },
  {
   "cell_type": "code",
   "execution_count": 85,
   "metadata": {
    "scrolled": true
   },
   "outputs": [
    {
     "data": {
      "text/html": [
       "<div>\n",
       "<style scoped>\n",
       "    .dataframe tbody tr th:only-of-type {\n",
       "        vertical-align: middle;\n",
       "    }\n",
       "\n",
       "    .dataframe tbody tr th {\n",
       "        vertical-align: top;\n",
       "    }\n",
       "\n",
       "    .dataframe thead th {\n",
       "        text-align: right;\n",
       "    }\n",
       "</style>\n",
       "<table border=\"1\" class=\"dataframe\">\n",
       "  <thead>\n",
       "    <tr style=\"text-align: right;\">\n",
       "      <th></th>\n",
       "      <th>0</th>\n",
       "      <th>1</th>\n",
       "      <th>2</th>\n",
       "      <th>3</th>\n",
       "      <th>4</th>\n",
       "      <th>5</th>\n",
       "      <th>6</th>\n",
       "      <th>7</th>\n",
       "      <th>8</th>\n",
       "      <th>9</th>\n",
       "      <th>...</th>\n",
       "      <th>262134</th>\n",
       "      <th>262135</th>\n",
       "      <th>262136</th>\n",
       "      <th>262137</th>\n",
       "      <th>262138</th>\n",
       "      <th>262139</th>\n",
       "      <th>262140</th>\n",
       "      <th>262141</th>\n",
       "      <th>262142</th>\n",
       "      <th>262143</th>\n",
       "    </tr>\n",
       "  </thead>\n",
       "  <tbody>\n",
       "    <tr>\n",
       "      <th>band1</th>\n",
       "      <td>9</td>\n",
       "      <td>9</td>\n",
       "      <td>9</td>\n",
       "      <td>9</td>\n",
       "      <td>9</td>\n",
       "      <td>7</td>\n",
       "      <td>5</td>\n",
       "      <td>4</td>\n",
       "      <td>8</td>\n",
       "      <td>9</td>\n",
       "      <td>...</td>\n",
       "      <td>7</td>\n",
       "      <td>7</td>\n",
       "      <td>7</td>\n",
       "      <td>6</td>\n",
       "      <td>6</td>\n",
       "      <td>6</td>\n",
       "      <td>5</td>\n",
       "      <td>5</td>\n",
       "      <td>5</td>\n",
       "      <td>5</td>\n",
       "    </tr>\n",
       "    <tr>\n",
       "      <th>band2</th>\n",
       "      <td>11</td>\n",
       "      <td>10</td>\n",
       "      <td>10</td>\n",
       "      <td>11</td>\n",
       "      <td>10</td>\n",
       "      <td>8</td>\n",
       "      <td>6</td>\n",
       "      <td>6</td>\n",
       "      <td>8</td>\n",
       "      <td>10</td>\n",
       "      <td>...</td>\n",
       "      <td>8</td>\n",
       "      <td>8</td>\n",
       "      <td>8</td>\n",
       "      <td>7</td>\n",
       "      <td>7</td>\n",
       "      <td>7</td>\n",
       "      <td>7</td>\n",
       "      <td>7</td>\n",
       "      <td>6</td>\n",
       "      <td>6</td>\n",
       "    </tr>\n",
       "    <tr>\n",
       "      <th>band3</th>\n",
       "      <td>12</td>\n",
       "      <td>12</td>\n",
       "      <td>12</td>\n",
       "      <td>13</td>\n",
       "      <td>11</td>\n",
       "      <td>9</td>\n",
       "      <td>7</td>\n",
       "      <td>6</td>\n",
       "      <td>8</td>\n",
       "      <td>12</td>\n",
       "      <td>...</td>\n",
       "      <td>6</td>\n",
       "      <td>6</td>\n",
       "      <td>5</td>\n",
       "      <td>5</td>\n",
       "      <td>5</td>\n",
       "      <td>6</td>\n",
       "      <td>7</td>\n",
       "      <td>7</td>\n",
       "      <td>7</td>\n",
       "      <td>6</td>\n",
       "    </tr>\n",
       "    <tr>\n",
       "      <th>band4</th>\n",
       "      <td>28</td>\n",
       "      <td>29</td>\n",
       "      <td>29</td>\n",
       "      <td>28</td>\n",
       "      <td>30</td>\n",
       "      <td>28</td>\n",
       "      <td>24</td>\n",
       "      <td>17</td>\n",
       "      <td>23</td>\n",
       "      <td>25</td>\n",
       "      <td>...</td>\n",
       "      <td>13</td>\n",
       "      <td>27</td>\n",
       "      <td>43</td>\n",
       "      <td>24</td>\n",
       "      <td>16</td>\n",
       "      <td>15</td>\n",
       "      <td>12</td>\n",
       "      <td>10</td>\n",
       "      <td>8</td>\n",
       "      <td>8</td>\n",
       "    </tr>\n",
       "  </tbody>\n",
       "</table>\n",
       "<p>4 rows × 262144 columns</p>\n",
       "</div>"
      ],
      "text/plain": [
       "       0       1       2       3       4       5       6       7       8       \\\n",
       "band1       9       9       9       9       9       7       5       4       8   \n",
       "band2      11      10      10      11      10       8       6       6       8   \n",
       "band3      12      12      12      13      11       9       7       6       8   \n",
       "band4      28      29      29      28      30      28      24      17      23   \n",
       "\n",
       "       9       ...  262134  262135  262136  262137  262138  262139  262140  \\\n",
       "band1       9  ...       7       7       7       6       6       6       5   \n",
       "band2      10  ...       8       8       8       7       7       7       7   \n",
       "band3      12  ...       6       6       5       5       5       6       7   \n",
       "band4      25  ...      13      27      43      24      16      15      12   \n",
       "\n",
       "       262141  262142  262143  \n",
       "band1       5       5       5  \n",
       "band2       7       6       6  \n",
       "band3       7       7       6  \n",
       "band4      10       8       8  \n",
       "\n",
       "[4 rows x 262144 columns]"
      ]
     },
     "execution_count": 85,
     "metadata": {},
     "output_type": "execute_result"
    }
   ],
   "source": [
    "test_data"
   ]
  },
  {
   "cell_type": "code",
   "execution_count": 86,
   "metadata": {},
   "outputs": [],
   "source": [
    "def calcuDiff(data1,data2):\n",
    "    length=len(data1)\n",
    "    t=[]\n",
    "    for i in range(length):\n",
    "        t.append(data1[i]-data2[i])\n",
    "    return t"
   ]
  },
  {
   "cell_type": "markdown",
   "metadata": {},
   "source": [
    "GENERATE DENSITY"
   ]
  },
  {
   "cell_type": "code",
   "execution_count": 88,
   "metadata": {},
   "outputs": [],
   "source": [
    "def generateDensity(cov,cl):\n",
    "    temp1=np.sqrt(np.linalg.det(cov_R))\n",
    "    temp2=np.exp(cl)\n",
    "    temp3=1/temp1\n",
    "    t=-(0.5)*temp3*temp2\n",
    "    return t    "
   ]
  },
  {
   "cell_type": "markdown",
   "metadata": {},
   "source": [
    "CREATE CLASS "
   ]
  },
  {
   "cell_type": "code",
   "execution_count": 89,
   "metadata": {},
   "outputs": [],
   "source": [
    "def createClass(test_data,mean,cov):\n",
    "    t=calcuDiff(test_data,mean)\n",
    "    t=np.array(t)       \n",
    "    inv=np.linalg.inv(cov_NR)\n",
    "    t2=t.T\n",
    "    temp1=np.matmul(t,inv)\n",
    "    C=np.matmul(temp1,t2)\n",
    "    return C"
   ]
  },
  {
   "cell_type": "markdown",
   "metadata": {},
   "source": [
    "PLOTING IMAGE FROM PIXEL VALUES USING IMSHOW"
   ]
  },
  {
   "cell_type": "code",
   "execution_count": 90,
   "metadata": {
    "scrolled": true
   },
   "outputs": [
    {
     "data": {
      "text/plain": [
       "<matplotlib.image.AxesImage at 0x7fc07f4f42e0>"
      ]
     },
     "execution_count": 90,
     "metadata": {},
     "output_type": "execute_result"
    },
    {
     "data": {
      "image/png": "[encoded data removed]",
      "text/plain": [
       "<Figure size 432x288 with 1 Axes>"
      ]
     },
     "metadata": {
      "needs_background": "light"
     },
     "output_type": "display_data"
    }
   ],
   "source": [
    "Out_image=[]\n",
    "for i in range(512*512):\n",
    "    P1=0.3\n",
    "    P2=0.7\n",
    "    R_C=createClass(test_data[i],mean_R,cov_R)\n",
    "    NR_C=createClass(test_data[i],mean_NR,cov_NR)\n",
    "    p1=generateDensity(cov_R,R_C)\n",
    "    p2=generateDensity(cov_NR,NR_C)\n",
    "    if (P1 * p1) >= (P2 * p2):\n",
    "        Out_image.append(255)\n",
    "    else:\n",
    "        Out_image.append(0)\n",
    "\n",
    "plt.imshow(np.array(Out_image).reshape(512,512).T, cmap = plt.get_cmap(name = 'gray'))"
   ]
  },
  {
   "cell_type": "code",
   "execution_count": 92,
   "metadata": {},
   "outputs": [
    {
     "data": {
      "text/plain": [
       "<matplotlib.image.AxesImage at 0x7fc07f422250>"
      ]
     },
     "execution_count": 92,
     "metadata": {},
     "output_type": "execute_result"
    },
    {
     "data": {
      "image/png": "[encoded data removed]",
      "text/plain": [
       "<Figure size 432x288 with 1 Axes>"
      ]
     },
     "metadata": {
      "needs_background": "light"
     },
     "output_type": "display_data"
    }
   ],
   "source": [
    "Out_image=[]\n",
    "for i in range(512*512):\n",
    "    P1=0.7\n",
    "    P2=0.3\n",
    "    R_C=createClass(test_data[i],mean_R,cov_R)\n",
    "    NR_C=createClass(test_data[i],mean_NR,cov_NR)\n",
    "    p1=generateDensity(cov_R,R_C)\n",
    "    p2=generateDensity(cov_NR,NR_C)\n",
    "    if (P1 * p1) >= (P2 * p2):\n",
    "        Out_image.append(255)\n",
    "    else:\n",
    "        Out_image.append(0)\n",
    "plt.imshow(np.array(Out_image).reshape(512,512).T, cmap = plt.get_cmap(name = 'gray'))"
   ]
  },
  {
   "cell_type": "code",
   "execution_count": 93,
   "metadata": {},
   "outputs": [
    {
     "data": {
      "text/plain": [
       "<matplotlib.image.AxesImage at 0x7fc07f3f18e0>"
      ]
     },
     "execution_count": 93,
     "metadata": {},
     "output_type": "execute_result"
    },
    {
     "data": {
      "image/png": "[encoded data removed]",
      "text/plain": [
       "<Figure size 432x288 with 1 Axes>"
      ]
     },
     "metadata": {
      "needs_background": "light"
     },
     "output_type": "display_data"
    }
   ],
   "source": [
    "Out_image=[]\n",
    "for i in range(512*512):\n",
    "    P1=0.5\n",
    "    P2=0.5\n",
    "    R_C=createClass(test_data[i],mean_R,cov_R)\n",
    "    NR_C=createClass(test_data[i],mean_NR,cov_NR)\n",
    "    p1=generateDensity(cov_R,R_C)\n",
    "    p2=generateDensity(cov_NR,NR_C)\n",
    "    if (P1 * p1) >= (P2 * p2):\n",
    "        Out_image.append(255)\n",
    "    else:\n",
    "        Out_image.append(0)\n",
    "plt.imshow(np.array(Out_image).reshape(512,512).T, cmap = plt.get_cmap(name = 'gray'))"
   ]
  }
 ],
 "metadata": {
  "kernelspec": {
   "display_name": "Python 3",
   "language": "python",
   "name": "python3"
  },
  "language_info": {
   "codemirror_mode": {
    "name": "ipython",
    "version": 3
   },
   "file_extension": ".py",
   "mimetype": "text/x-python",
   "name": "python",
   "nbconvert_exporter": "python",
   "pygments_lexer": "ipython3",
   "version": "3.8.5"
  }
 },
 "nbformat": 4,
 "nbformat_minor": 4
}
