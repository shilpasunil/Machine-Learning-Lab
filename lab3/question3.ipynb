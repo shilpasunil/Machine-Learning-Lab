{
 "cells": [
  {
   "cell_type": "raw",
   "metadata": {},
   "source": [
    "IMPORT NECCESARY PACKAGES"
   ]
  },
  {
   "cell_type": "code",
   "execution_count": 19,
   "metadata": {},
   "outputs": [],
   "source": [
    "import numpy as np\n",
    "import pandas as pd\n",
    "from sklearn.naive_bayes import GaussianNB"
   ]
  },
  {
   "cell_type": "markdown",
   "metadata": {},
   "source": [
    "INITIALIZE M1, M2, COV1 AND COV2 (GIVEN)"
   ]
  },
  {
   "cell_type": "code",
   "execution_count": 2,
   "metadata": {},
   "outputs": [],
   "source": [
    "m1= [0,0,0,0,0] \n",
    "m2=[1,1,1,1,1]\n",
    "cov1=[[0.8,0.2,0.1,0.05,0.01],[0.2,0.7,0.1,0.03,0.02],[0.1,0.1,0.8,0.02,0.01],[0.05,0.03,0.02,0.9,0.01],[0.01,0.02,0.01,0.01,0.8]]\n",
    "cov2=[[0.9,0.1,0.05,0.02,0.01],[0.1,0.8,0.1,0.02,0.02],[0.05,0.1,0.7,0.02,0.01],[0.02,0.02,0.02,0.6,0.02],[0.01,0.02,0.01,0.02,0.7]]"
   ]
  },
  {
   "cell_type": "markdown",
   "metadata": {},
   "source": [
    "GENERATE 5 DIMENSIONAL GUASSIAN VECTOR FROM M1, COV1 AND M2 ,COV2"
   ]
  },
  {
   "cell_type": "code",
   "execution_count": 3,
   "metadata": {},
   "outputs": [],
   "source": [
    "\n",
    "a,b,c,d,e = np.random.multivariate_normal(m1, cov1, 25).T\n",
    "a1,b1,c1,d1,e1 =np.random.multivariate_normal(m2, cov2, 25).T"
   ]
  },
  {
   "cell_type": "markdown",
   "metadata": {},
   "source": [
    "CREATE 2 LIST THAT CONTAINS LABEL OF CLASS, HERE WE ARE TAKING 25 W1 AND 25 W2 "
   ]
  },
  {
   "cell_type": "code",
   "execution_count": 4,
   "metadata": {},
   "outputs": [],
   "source": [
    "class_label=[\"w1\"]*25\n",
    "class_label2=[\"w2\"]*25\n"
   ]
  },
  {
   "cell_type": "markdown",
   "metadata": {},
   "source": [
    "CREATE 2 DATAFRAME DF AND DF_1 THAT CONTAINS DATA OF 5 DIMENSIONAL GUASSIAN VECTOR CREATED BY M1,COV1 AND M2,COV2 RESPECTIVELY"
   ]
  },
  {
   "cell_type": "code",
   "execution_count": 40,
   "metadata": {},
   "outputs": [],
   "source": [
    "df = pd.DataFrame([a,b,c,d,e,class_label],index=[\"1\",\"2\",\"3\",\"4\",\"5\",\"class\"]).T\n",
    "df_1=pd.DataFrame([a1,b1,c1,d1,e1,class_label2],index=[\"1\",\"2\",\"3\",\"4\",\"5\",\"class\"]).T"
   ]
  },
  {
   "cell_type": "markdown",
   "metadata": {},
   "source": [
    "FIND MEAN AND VARIANCE OF DF AND DF_1 "
   ]
  },
  {
   "cell_type": "code",
   "execution_count": 41,
   "metadata": {},
   "outputs": [],
   "source": [
    "w1_mean=df.mean()\n",
    "w2_mean=df_1.mean()\n",
    "w1_var=df.var()\n",
    "w2_var=df_1.var()"
   ]
  },
  {
   "cell_type": "markdown",
   "metadata": {},
   "source": [
    "m AND v ARE LIST THAT CONTAINING MEAN AND VARIANCE OF FEATURES OF EACH CLASS RESP"
   ]
  },
  {
   "cell_type": "code",
   "execution_count": 42,
   "metadata": {
    "scrolled": true
   },
   "outputs": [],
   "source": [
    "m=[list(w1_mean),list(w2_mean)]\n",
    "v=[list(w1_var),list(w2_var)]"
   ]
  },
  {
   "cell_type": "markdown",
   "metadata": {},
   "source": [
    "FOR EASIER IMPLEMENTATION CLASS ATTRIBUTE IS SET TO INDEX OF DATAFRAME"
   ]
  },
  {
   "cell_type": "code",
   "execution_count": 8,
   "metadata": {},
   "outputs": [],
   "source": [
    "df.set_index('class',inplace=True)\n",
    "df_1.set_index('class',inplace=True)"
   ]
  },
  {
   "cell_type": "markdown",
   "metadata": {},
   "source": [
    "COMBINE DATAFRAME DF AND DF_1 TO X1 I.E, TRAINING DATA"
   ]
  },
  {
   "cell_type": "code",
   "execution_count": 43,
   "metadata": {},
   "outputs": [
    {
     "data": {
      "text/html": [
       "<div>\n",
       "<style scoped>\n",
       "    .dataframe tbody tr th:only-of-type {\n",
       "        vertical-align: middle;\n",
       "    }\n",
       "\n",
       "    .dataframe tbody tr th {\n",
       "        vertical-align: top;\n",
       "    }\n",
       "\n",
       "    .dataframe thead th {\n",
       "        text-align: right;\n",
       "    }\n",
       "</style>\n",
       "<table border=\"1\" class=\"dataframe\">\n",
       "  <thead>\n",
       "    <tr style=\"text-align: right;\">\n",
       "      <th></th>\n",
       "      <th>1</th>\n",
       "      <th>2</th>\n",
       "      <th>3</th>\n",
       "      <th>4</th>\n",
       "      <th>5</th>\n",
       "      <th>class</th>\n",
       "    </tr>\n",
       "  </thead>\n",
       "  <tbody>\n",
       "    <tr>\n",
       "      <th>0</th>\n",
       "      <td>-0.693153</td>\n",
       "      <td>1.60423</td>\n",
       "      <td>-0.623316</td>\n",
       "      <td>1.00269</td>\n",
       "      <td>-0.187381</td>\n",
       "      <td>w1</td>\n",
       "    </tr>\n",
       "    <tr>\n",
       "      <th>1</th>\n",
       "      <td>0.0943527</td>\n",
       "      <td>0.276034</td>\n",
       "      <td>0.16686</td>\n",
       "      <td>0.934778</td>\n",
       "      <td>0.583166</td>\n",
       "      <td>w1</td>\n",
       "    </tr>\n",
       "    <tr>\n",
       "      <th>2</th>\n",
       "      <td>-1.5278</td>\n",
       "      <td>-1.24848</td>\n",
       "      <td>-1.78733</td>\n",
       "      <td>-2.27042</td>\n",
       "      <td>0.297115</td>\n",
       "      <td>w1</td>\n",
       "    </tr>\n",
       "    <tr>\n",
       "      <th>3</th>\n",
       "      <td>-0.105223</td>\n",
       "      <td>-0.90496</td>\n",
       "      <td>-2.37513</td>\n",
       "      <td>0.235936</td>\n",
       "      <td>0.333362</td>\n",
       "      <td>w1</td>\n",
       "    </tr>\n",
       "    <tr>\n",
       "      <th>4</th>\n",
       "      <td>-0.27142</td>\n",
       "      <td>1.00591</td>\n",
       "      <td>-1.14441</td>\n",
       "      <td>2.29967</td>\n",
       "      <td>1.76456</td>\n",
       "      <td>w1</td>\n",
       "    </tr>\n",
       "    <tr>\n",
       "      <th>...</th>\n",
       "      <td>...</td>\n",
       "      <td>...</td>\n",
       "      <td>...</td>\n",
       "      <td>...</td>\n",
       "      <td>...</td>\n",
       "      <td>...</td>\n",
       "    </tr>\n",
       "    <tr>\n",
       "      <th>495</th>\n",
       "      <td>None</td>\n",
       "      <td>None</td>\n",
       "      <td>None</td>\n",
       "      <td>None</td>\n",
       "      <td>None</td>\n",
       "      <td>w2</td>\n",
       "    </tr>\n",
       "    <tr>\n",
       "      <th>496</th>\n",
       "      <td>None</td>\n",
       "      <td>None</td>\n",
       "      <td>None</td>\n",
       "      <td>None</td>\n",
       "      <td>None</td>\n",
       "      <td>w2</td>\n",
       "    </tr>\n",
       "    <tr>\n",
       "      <th>497</th>\n",
       "      <td>None</td>\n",
       "      <td>None</td>\n",
       "      <td>None</td>\n",
       "      <td>None</td>\n",
       "      <td>None</td>\n",
       "      <td>w2</td>\n",
       "    </tr>\n",
       "    <tr>\n",
       "      <th>498</th>\n",
       "      <td>None</td>\n",
       "      <td>None</td>\n",
       "      <td>None</td>\n",
       "      <td>None</td>\n",
       "      <td>None</td>\n",
       "      <td>w2</td>\n",
       "    </tr>\n",
       "    <tr>\n",
       "      <th>499</th>\n",
       "      <td>None</td>\n",
       "      <td>None</td>\n",
       "      <td>None</td>\n",
       "      <td>None</td>\n",
       "      <td>None</td>\n",
       "      <td>w2</td>\n",
       "    </tr>\n",
       "  </tbody>\n",
       "</table>\n",
       "<p>1000 rows × 6 columns</p>\n",
       "</div>"
      ],
      "text/plain": [
       "             1         2         3         4         5 class\n",
       "0    -0.693153   1.60423 -0.623316   1.00269 -0.187381    w1\n",
       "1    0.0943527  0.276034   0.16686  0.934778  0.583166    w1\n",
       "2      -1.5278  -1.24848  -1.78733  -2.27042  0.297115    w1\n",
       "3    -0.105223  -0.90496  -2.37513  0.235936  0.333362    w1\n",
       "4     -0.27142   1.00591  -1.14441   2.29967   1.76456    w1\n",
       "..         ...       ...       ...       ...       ...   ...\n",
       "495       None      None      None      None      None    w2\n",
       "496       None      None      None      None      None    w2\n",
       "497       None      None      None      None      None    w2\n",
       "498       None      None      None      None      None    w2\n",
       "499       None      None      None      None      None    w2\n",
       "\n",
       "[1000 rows x 6 columns]"
      ]
     },
     "execution_count": 43,
     "metadata": {},
     "output_type": "execute_result"
    }
   ],
   "source": [
    "frame=[df,df_1]\n",
    "X1=pd.concat(frame)\n",
    "X1"
   ]
  },
  {
   "cell_type": "markdown",
   "metadata": {},
   "source": [
    "FOR EASIER IMPLEMENTATION TRAINING DATA IS FURTHER DIVIDED INTO 2 LIST, ONE CONTAINING ONLY CLASS ATTRIBUTE AND OTHER CONTAINING ALL ATTRIBUTES EXCEPT CLASS"
   ]
  },
  {
   "cell_type": "code",
   "execution_count": 46,
   "metadata": {},
   "outputs": [],
   "source": [
    "X_train = np.array(X1.iloc[:,[0,1,2,3,4]])\n",
    "y_train = np.array(X1.index)\n"
   ]
  },
  {
   "cell_type": "markdown",
   "metadata": {},
   "source": [
    "FOR EASIER IMPLEMENTATION W1 CLASS IS ASSIGNED AS 0 AND W2 AS 1"
   ]
  },
  {
   "cell_type": "code",
   "execution_count": 11,
   "metadata": {},
   "outputs": [],
   "source": [
    "for i in range(len(y_train)):\n",
    "    if y_train[i] == \"w1\":\n",
    "        y_train[i] = 0\n",
    "    else:\n",
    "        y_train[i] = 1"
   ]
  },
  {
   "cell_type": "markdown",
   "metadata": {},
   "source": [
    "CREATE TEST DATA X2 CONTAINING 1000 UNITS USING SAME PROCESS WHICH IS EXPLAINED BY ABOVE STEPS"
   ]
  },
  {
   "cell_type": "code",
   "execution_count": 12,
   "metadata": {},
   "outputs": [],
   "source": [
    "a2,b2,c2,d2,e2 = np.random.multivariate_normal(m1, cov1, 500).T\n",
    "a3,b3,c3,d3,e3 =np.random.multivariate_normal(m2, cov2, 500).T\n",
    "class_label=[\"w1\"]*500\n",
    "class_label2=[\"w2\"]*500\n"
   ]
  },
  {
   "cell_type": "code",
   "execution_count": 13,
   "metadata": {},
   "outputs": [],
   "source": [
    "df1 = pd.DataFrame([a2,b2,c2,d2,e2,class_label],index=[\"1\",\"2\",\"3\",\"4\",\"5\",\"class\"]).T\n",
    "df1_1=pd.DataFrame([a3,b3,c3,d3,e3,class_label2],index=[\"1\",\"2\",\"3\",\"4\",\"5\",\"class\"]).T"
   ]
  },
  {
   "cell_type": "code",
   "execution_count": 14,
   "metadata": {},
   "outputs": [],
   "source": [
    "df1.set_index('class',inplace=True)\n",
    "df1_1.set_index('class',inplace=True)"
   ]
  },
  {
   "cell_type": "code",
   "execution_count": 15,
   "metadata": {
    "scrolled": true
   },
   "outputs": [
    {
     "data": {
      "text/html": [
       "<div>\n",
       "<style scoped>\n",
       "    .dataframe tbody tr th:only-of-type {\n",
       "        vertical-align: middle;\n",
       "    }\n",
       "\n",
       "    .dataframe tbody tr th {\n",
       "        vertical-align: top;\n",
       "    }\n",
       "\n",
       "    .dataframe thead th {\n",
       "        text-align: right;\n",
       "    }\n",
       "</style>\n",
       "<table border=\"1\" class=\"dataframe\">\n",
       "  <thead>\n",
       "    <tr style=\"text-align: right;\">\n",
       "      <th></th>\n",
       "      <th>1</th>\n",
       "      <th>2</th>\n",
       "      <th>3</th>\n",
       "      <th>4</th>\n",
       "      <th>5</th>\n",
       "    </tr>\n",
       "    <tr>\n",
       "      <th>class</th>\n",
       "      <th></th>\n",
       "      <th></th>\n",
       "      <th></th>\n",
       "      <th></th>\n",
       "      <th></th>\n",
       "    </tr>\n",
       "  </thead>\n",
       "  <tbody>\n",
       "    <tr>\n",
       "      <th>w1</th>\n",
       "      <td>-0.645036</td>\n",
       "      <td>-0.601904</td>\n",
       "      <td>0.136972</td>\n",
       "      <td>-1.05276</td>\n",
       "      <td>-1.13363</td>\n",
       "    </tr>\n",
       "    <tr>\n",
       "      <th>w1</th>\n",
       "      <td>-2.02275</td>\n",
       "      <td>-1.84896</td>\n",
       "      <td>-0.115271</td>\n",
       "      <td>0.443552</td>\n",
       "      <td>0.728615</td>\n",
       "    </tr>\n",
       "    <tr>\n",
       "      <th>w1</th>\n",
       "      <td>-1.15859</td>\n",
       "      <td>-1.99205</td>\n",
       "      <td>-0.471137</td>\n",
       "      <td>0.962656</td>\n",
       "      <td>1.43219</td>\n",
       "    </tr>\n",
       "    <tr>\n",
       "      <th>w1</th>\n",
       "      <td>-0.457958</td>\n",
       "      <td>1.90109</td>\n",
       "      <td>-0.21197</td>\n",
       "      <td>1.08542</td>\n",
       "      <td>0.44672</td>\n",
       "    </tr>\n",
       "    <tr>\n",
       "      <th>w1</th>\n",
       "      <td>1.08701</td>\n",
       "      <td>0.323163</td>\n",
       "      <td>0.247592</td>\n",
       "      <td>0.209802</td>\n",
       "      <td>0.537687</td>\n",
       "    </tr>\n",
       "    <tr>\n",
       "      <th>...</th>\n",
       "      <td>...</td>\n",
       "      <td>...</td>\n",
       "      <td>...</td>\n",
       "      <td>...</td>\n",
       "      <td>...</td>\n",
       "    </tr>\n",
       "    <tr>\n",
       "      <th>w2</th>\n",
       "      <td>0.733458</td>\n",
       "      <td>0.648167</td>\n",
       "      <td>1.24997</td>\n",
       "      <td>1.49223</td>\n",
       "      <td>0.31381</td>\n",
       "    </tr>\n",
       "    <tr>\n",
       "      <th>w2</th>\n",
       "      <td>-0.0581606</td>\n",
       "      <td>1.69168</td>\n",
       "      <td>0.429834</td>\n",
       "      <td>0.8481</td>\n",
       "      <td>-0.545159</td>\n",
       "    </tr>\n",
       "    <tr>\n",
       "      <th>w2</th>\n",
       "      <td>1.33245</td>\n",
       "      <td>1.46549</td>\n",
       "      <td>0.425027</td>\n",
       "      <td>1.26414</td>\n",
       "      <td>0.52847</td>\n",
       "    </tr>\n",
       "    <tr>\n",
       "      <th>w2</th>\n",
       "      <td>0.757297</td>\n",
       "      <td>1.58401</td>\n",
       "      <td>0.181548</td>\n",
       "      <td>1.38779</td>\n",
       "      <td>0.941537</td>\n",
       "    </tr>\n",
       "    <tr>\n",
       "      <th>w2</th>\n",
       "      <td>0.411546</td>\n",
       "      <td>0.671793</td>\n",
       "      <td>0.960596</td>\n",
       "      <td>0.933608</td>\n",
       "      <td>0.502396</td>\n",
       "    </tr>\n",
       "  </tbody>\n",
       "</table>\n",
       "<p>1000 rows × 5 columns</p>\n",
       "</div>"
      ],
      "text/plain": [
       "               1         2         3         4         5\n",
       "class                                                   \n",
       "w1     -0.645036 -0.601904  0.136972  -1.05276  -1.13363\n",
       "w1      -2.02275  -1.84896 -0.115271  0.443552  0.728615\n",
       "w1      -1.15859  -1.99205 -0.471137  0.962656   1.43219\n",
       "w1     -0.457958   1.90109  -0.21197   1.08542   0.44672\n",
       "w1       1.08701  0.323163  0.247592  0.209802  0.537687\n",
       "...          ...       ...       ...       ...       ...\n",
       "w2      0.733458  0.648167   1.24997   1.49223   0.31381\n",
       "w2    -0.0581606   1.69168  0.429834    0.8481 -0.545159\n",
       "w2       1.33245   1.46549  0.425027   1.26414   0.52847\n",
       "w2      0.757297   1.58401  0.181548   1.38779  0.941537\n",
       "w2      0.411546  0.671793  0.960596  0.933608  0.502396\n",
       "\n",
       "[1000 rows x 5 columns]"
      ]
     },
     "execution_count": 15,
     "metadata": {},
     "output_type": "execute_result"
    }
   ],
   "source": [
    "frame=[df1,df1_1]\n",
    "X2=pd.concat(frame)\n",
    "X2"
   ]
  },
  {
   "cell_type": "markdown",
   "metadata": {},
   "source": [
    "EXTRACT CLASS ATTRIBUTE FROM X2 AND ASSIGN IT TO TEST_CLASS"
   ]
  },
  {
   "cell_type": "code",
   "execution_count": 16,
   "metadata": {},
   "outputs": [],
   "source": [
    "test_class = list(X2.index)"
   ]
  },
  {
   "cell_type": "markdown",
   "metadata": {},
   "source": [
    "EXTRACT ALL FEATURES EXCEPT CLASS LABEL FROM X2 AND ASSIGN IT TO TEST_LIST"
   ]
  },
  {
   "cell_type": "code",
   "execution_count": 17,
   "metadata": {},
   "outputs": [],
   "source": [
    "test_list = []\n",
    "for index, rows in X2.iterrows():\n",
    "    my_list =[rows[\"1\"],rows[\"2\"],rows[\"3\"],rows[\"4\"],rows[\"5\"]]       \n",
    "    test_list.append(my_list)"
   ]
  },
  {
   "cell_type": "markdown",
   "metadata": {},
   "source": [
    "CONVERTING TEST_LIST INTO NUMPY ARRAY x"
   ]
  },
  {
   "cell_type": "code",
   "execution_count": 18,
   "metadata": {},
   "outputs": [],
   "source": [
    "x=np.array(test_list)"
   ]
  },
  {
   "cell_type": "markdown",
   "metadata": {},
   "source": [
    "FUNCTION THAT CALCULATES PRIOR PROBABILITIES OF THE CLASSES"
   ]
  },
  {
   "cell_type": "code",
   "execution_count": 306,
   "metadata": {},
   "outputs": [],
   "source": [
    "def pre_prob(y):\n",
    "    pre_probab=[]\n",
    "    count_w1,count_w2=0,0\n",
    "    for i in range(len(y_train)):\n",
    "        if y_train[i] == 0:\n",
    "            count_w1=count_w1+1;\n",
    "        else:\n",
    "            count_w2=count_w2+1\n",
    "    pre_probab.append(count_w1/len(y_train))\n",
    "    pre_probab.append(count_w2/len(y_train))\n",
    "    return pre_probab"
   ]
  },
  {
   "cell_type": "markdown",
   "metadata": {},
   "source": [
    "POSTERIER PROBABILITIES OF THE TEST DATA GIVEN EACH OF THE CLASSES"
   ]
  },
  {
   "cell_type": "code",
   "execution_count": 320,
   "metadata": {},
   "outputs": [],
   "source": [
    "def prob_feature_class(m, v, x):  \n",
    "    pfc=[]\n",
    "    for i in range(2):\n",
    "        product = 1\n",
    "        for j in range(5):\n",
    "            sub1 =  np.sqrt(2*3.14*v[i][j])\n",
    "            sub3= np.square(x[j] - m[i][j])\n",
    "            sub2 = np.exp((-0.5*sub3)/v[i][j])\n",
    "            product = product * (1/sub1) *sub2\n",
    "        pfc.append(product)\n",
    "    return pfc"
   ]
  },
  {
   "cell_type": "markdown",
   "metadata": {},
   "source": [
    " GAUSSIAN NAIVE BAYES FOR COMPUTING CONDITIONAL PROBABILITY OF EACH OF THE CLASSES GIVEN THE TEST INSTANCE x[i]"
   ]
  },
  {
   "cell_type": "code",
   "execution_count": 321,
   "metadata": {},
   "outputs": [],
   "source": [
    "def GNB(X, y, x):  \n",
    "    pfc = prob_feature_class(m, v, x)\n",
    "    pre_probab = pre_prob(y)\n",
    "    pcf = []\n",
    "    total_prob = 0\n",
    "    for i in range(2):\n",
    "        total_prob = total_prob + (pfc[i] * pre_probab[i])\n",
    "    for i in range(2):\n",
    "        tmp=(pfc[i] * pre_probab[i])/total_prob\n",
    "        pcf.append(tmp)\n",
    "    prediction = pcf.index(max(pcf))\n",
    "    return  prediction"
   ]
  },
  {
   "cell_type": "markdown",
   "metadata": {},
   "source": [
    "APPLY GNB FOR EACH OF THE TEST DATA x"
   ]
  },
  {
   "cell_type": "code",
   "execution_count": 322,
   "metadata": {},
   "outputs": [],
   "source": [
    "predict_class=[]\n",
    "for i in range(len(x)):\n",
    "     predict_class.append(GNB(X_train, y_train, x[i]))\n",
    "    "
   ]
  },
  {
   "cell_type": "markdown",
   "metadata": {},
   "source": [
    "CONVERTING BACK 0 TO w1 AND 1 TO w2"
   ]
  },
  {
   "cell_type": "code",
   "execution_count": 323,
   "metadata": {},
   "outputs": [],
   "source": [
    "for i in range(len(predict_class)):\n",
    "    if predict_class[i] == 0:\n",
    "           predict_class[i] = \"w1\"\n",
    "    else:\n",
    "           predict_class[i]  = \"w2\""
   ]
  },
  {
   "cell_type": "markdown",
   "metadata": {},
   "source": [
    "COMPUTE THE ERROR RATE OF THIS CLASSIFICATION"
   ]
  },
  {
   "cell_type": "code",
   "execution_count": 324,
   "metadata": {},
   "outputs": [
    {
     "name": "stdout",
     "output_type": "stream",
     "text": [
      "Error rate of this classification is 0.148\n",
      "That is out of 1000 test data 148 test data is wrongly classified\n"
     ]
    }
   ],
   "source": [
    "length=len(predict_class)\n",
    "err_count=0\n",
    "for i in range(length):\n",
    "    if predict_class[i] != test_class[i]:\n",
    "        err_count=err_count+1\n",
    "        \n",
    "err_rate=err_count/length\n",
    "print(\"Error rate of this classification is\",err_rate)\n",
    "print(\"That is out of\",length,\"test data\",err_count,\"test data is wrongly classified\")"
   ]
  }
 ],
 "metadata": {
  "kernelspec": {
   "display_name": "Python 3",
   "language": "python",
   "name": "python3"
  },
  "language_info": {
   "codemirror_mode": {
    "name": "ipython",
    "version": 3
   },
   "file_extension": ".py",
   "mimetype": "text/x-python",
   "name": "python",
   "nbconvert_exporter": "python",
   "pygments_lexer": "ipython3",
   "version": "3.8.5"
  }
 },
 "nbformat": 4,
 "nbformat_minor": 4
}
