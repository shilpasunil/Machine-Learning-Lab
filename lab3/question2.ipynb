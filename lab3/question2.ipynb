{
 "cells": [
  {
   "cell_type": "markdown",
   "metadata": {},
   "source": [
    "IMPORT NECCESARY PACKAGES"
   ]
  },
  {
   "cell_type": "code",
   "execution_count": 1,
   "metadata": {},
   "outputs": [],
   "source": [
    "import pandas as pd\n",
    "import numpy as np\n"
   ]
  },
  {
   "cell_type": "markdown",
   "metadata": {},
   "source": [
    "INITIALIZE MEAN1, MEAN2, COV (GIVEN)"
   ]
  },
  {
   "cell_type": "code",
   "execution_count": 2,
   "metadata": {},
   "outputs": [],
   "source": [
    "mean1 = [0,0]\n",
    "mean2 = [1,2]\n",
    "cov = [[0.8,0.2],[0.2,0.8]]"
   ]
  },
  {
   "cell_type": "markdown",
   "metadata": {},
   "source": [
    "GENERATE 2 DIMENSIONAL GUASSIAN VECTOR FROM MEAN1, COV AND MEAN2 ,COV"
   ]
  },
  {
   "cell_type": "code",
   "execution_count": 3,
   "metadata": {},
   "outputs": [],
   "source": [
    "x1_1, y1_1 = np.random.multivariate_normal(mean1, cov, 500).T\n",
    "x2_1,y2_1 =np.random.multivariate_normal(mean2, cov, 500).T"
   ]
  },
  {
   "cell_type": "markdown",
   "metadata": {},
   "source": [
    "CREATE 2 LIST THAT CONTAINS LABEL OF CLASS, HERE WE ARE TAKING 500 W1 AND 500 W2 "
   ]
  },
  {
   "cell_type": "code",
   "execution_count": 4,
   "metadata": {},
   "outputs": [],
   "source": [
    "class_label=[\"w1\"]*500\n",
    "class_label2=[\"w2\"]*500"
   ]
  },
  {
   "cell_type": "markdown",
   "metadata": {},
   "source": [
    "CREATE 2 DATAFRAME DF AND DF2 THAT CONTAINS DATA OF 2 DIMENSIONAL GUASSIAN VECTOR CREATED BY MEAN1, COV AND MEAN2 ,COV RESPECTIVELY"
   ]
  },
  {
   "cell_type": "code",
   "execution_count": 5,
   "metadata": {},
   "outputs": [],
   "source": [
    "df = pd.DataFrame([x1_1,y1_1,class_label],index=[\"x-cordinate\",\"y-cordinate\",\"class\"]).T\n",
    "df2 = pd.DataFrame([x2_1,y2_1,class_label2],index=[\"x-cordinate\",\"y-cordinate\",\"class\"]).T"
   ]
  },
  {
   "cell_type": "markdown",
   "metadata": {},
   "source": [
    "FOR EASIER IMPLEMENTATION CLASS ATTRIBUTE IS SET TO INDEX OF DATAFRAME"
   ]
  },
  {
   "cell_type": "code",
   "execution_count": 6,
   "metadata": {},
   "outputs": [],
   "source": [
    "df.set_index('class',inplace=True)\n",
    "df2.set_index('class',inplace=True)"
   ]
  },
  {
   "cell_type": "markdown",
   "metadata": {},
   "source": [
    "COMBINE DATAFRAME DF AND DF2 TO X1 I.E, TRAINING DATA"
   ]
  },
  {
   "cell_type": "code",
   "execution_count": 7,
   "metadata": {},
   "outputs": [
    {
     "data": {
      "text/html": [
       "<div>\n",
       "<style scoped>\n",
       "    .dataframe tbody tr th:only-of-type {\n",
       "        vertical-align: middle;\n",
       "    }\n",
       "\n",
       "    .dataframe tbody tr th {\n",
       "        vertical-align: top;\n",
       "    }\n",
       "\n",
       "    .dataframe thead th {\n",
       "        text-align: right;\n",
       "    }\n",
       "</style>\n",
       "<table border=\"1\" class=\"dataframe\">\n",
       "  <thead>\n",
       "    <tr style=\"text-align: right;\">\n",
       "      <th></th>\n",
       "      <th>x-cordinate</th>\n",
       "      <th>y-cordinate</th>\n",
       "    </tr>\n",
       "    <tr>\n",
       "      <th>class</th>\n",
       "      <th></th>\n",
       "      <th></th>\n",
       "    </tr>\n",
       "  </thead>\n",
       "  <tbody>\n",
       "    <tr>\n",
       "      <th>w1</th>\n",
       "      <td>0.531685</td>\n",
       "      <td>0.187723</td>\n",
       "    </tr>\n",
       "    <tr>\n",
       "      <th>w1</th>\n",
       "      <td>0.724399</td>\n",
       "      <td>-0.639789</td>\n",
       "    </tr>\n",
       "    <tr>\n",
       "      <th>w1</th>\n",
       "      <td>-1.77223</td>\n",
       "      <td>-1.14028</td>\n",
       "    </tr>\n",
       "    <tr>\n",
       "      <th>w1</th>\n",
       "      <td>-0.992228</td>\n",
       "      <td>-0.649233</td>\n",
       "    </tr>\n",
       "    <tr>\n",
       "      <th>w1</th>\n",
       "      <td>0.510632</td>\n",
       "      <td>-0.154128</td>\n",
       "    </tr>\n",
       "    <tr>\n",
       "      <th>...</th>\n",
       "      <td>...</td>\n",
       "      <td>...</td>\n",
       "    </tr>\n",
       "    <tr>\n",
       "      <th>w2</th>\n",
       "      <td>1.65205</td>\n",
       "      <td>3.98171</td>\n",
       "    </tr>\n",
       "    <tr>\n",
       "      <th>w2</th>\n",
       "      <td>-1.17271</td>\n",
       "      <td>1.23793</td>\n",
       "    </tr>\n",
       "    <tr>\n",
       "      <th>w2</th>\n",
       "      <td>1.81716</td>\n",
       "      <td>1.25874</td>\n",
       "    </tr>\n",
       "    <tr>\n",
       "      <th>w2</th>\n",
       "      <td>2.48231</td>\n",
       "      <td>2.54597</td>\n",
       "    </tr>\n",
       "    <tr>\n",
       "      <th>w2</th>\n",
       "      <td>1.25379</td>\n",
       "      <td>1.69863</td>\n",
       "    </tr>\n",
       "  </tbody>\n",
       "</table>\n",
       "<p>1000 rows × 2 columns</p>\n",
       "</div>"
      ],
      "text/plain": [
       "      x-cordinate y-cordinate\n",
       "class                        \n",
       "w1       0.531685    0.187723\n",
       "w1       0.724399   -0.639789\n",
       "w1       -1.77223    -1.14028\n",
       "w1      -0.992228   -0.649233\n",
       "w1       0.510632   -0.154128\n",
       "...           ...         ...\n",
       "w2        1.65205     3.98171\n",
       "w2       -1.17271     1.23793\n",
       "w2        1.81716     1.25874\n",
       "w2        2.48231     2.54597\n",
       "w2        1.25379     1.69863\n",
       "\n",
       "[1000 rows x 2 columns]"
      ]
     },
     "execution_count": 7,
     "metadata": {},
     "output_type": "execute_result"
    }
   ],
   "source": [
    "frame=[df,df2]\n",
    "X1=pd.concat(frame)\n",
    "X1"
   ]
  },
  {
   "cell_type": "markdown",
   "metadata": {},
   "source": [
    "CREATE TEST DATA X2 CONTAINING 5000 UNITS USING SAME PROCESS WHICH IS EXPLAINED BY ABOVE STEPS"
   ]
  },
  {
   "cell_type": "code",
   "execution_count": 8,
   "metadata": {},
   "outputs": [],
   "source": [
    "x1_2, y1_2 = np.random.multivariate_normal(mean1, cov, 2500).T\n",
    "x2_2,y2_2 =np.random.multivariate_normal(mean2, cov, 2500).T"
   ]
  },
  {
   "cell_type": "code",
   "execution_count": 9,
   "metadata": {},
   "outputs": [],
   "source": [
    "class_label=[\"w1\"]*2500\n",
    "class_label2=[\"w2\"]*2500"
   ]
  },
  {
   "cell_type": "code",
   "execution_count": 10,
   "metadata": {},
   "outputs": [],
   "source": [
    "df_1 = pd.DataFrame([x1_2,y1_2,class_label],index=[\"xcordinate\",\"ycordinate\",\"class\"]).T"
   ]
  },
  {
   "cell_type": "code",
   "execution_count": 11,
   "metadata": {},
   "outputs": [],
   "source": [
    "df_1.set_index('class',inplace=True)"
   ]
  },
  {
   "cell_type": "code",
   "execution_count": 12,
   "metadata": {},
   "outputs": [],
   "source": [
    "df2_1 = pd.DataFrame([x2_2,y2_2,class_label2],index=[\"xcordinate\",\"ycordinate\",\"class\"]).T"
   ]
  },
  {
   "cell_type": "code",
   "execution_count": 13,
   "metadata": {},
   "outputs": [],
   "source": [
    "df2_1.set_index('class',inplace=True)"
   ]
  },
  {
   "cell_type": "code",
   "execution_count": 14,
   "metadata": {
    "scrolled": true
   },
   "outputs": [
    {
     "data": {
      "text/html": [
       "<div>\n",
       "<style scoped>\n",
       "    .dataframe tbody tr th:only-of-type {\n",
       "        vertical-align: middle;\n",
       "    }\n",
       "\n",
       "    .dataframe tbody tr th {\n",
       "        vertical-align: top;\n",
       "    }\n",
       "\n",
       "    .dataframe thead th {\n",
       "        text-align: right;\n",
       "    }\n",
       "</style>\n",
       "<table border=\"1\" class=\"dataframe\">\n",
       "  <thead>\n",
       "    <tr style=\"text-align: right;\">\n",
       "      <th></th>\n",
       "      <th>xcordinate</th>\n",
       "      <th>ycordinate</th>\n",
       "    </tr>\n",
       "    <tr>\n",
       "      <th>class</th>\n",
       "      <th></th>\n",
       "      <th></th>\n",
       "    </tr>\n",
       "  </thead>\n",
       "  <tbody>\n",
       "    <tr>\n",
       "      <th>w1</th>\n",
       "      <td>-0.234797</td>\n",
       "      <td>-0.647468</td>\n",
       "    </tr>\n",
       "    <tr>\n",
       "      <th>w1</th>\n",
       "      <td>-0.551399</td>\n",
       "      <td>0.0774913</td>\n",
       "    </tr>\n",
       "    <tr>\n",
       "      <th>w1</th>\n",
       "      <td>-0.817795</td>\n",
       "      <td>0.0304477</td>\n",
       "    </tr>\n",
       "    <tr>\n",
       "      <th>w1</th>\n",
       "      <td>0.81067</td>\n",
       "      <td>0.362171</td>\n",
       "    </tr>\n",
       "    <tr>\n",
       "      <th>w1</th>\n",
       "      <td>-0.474285</td>\n",
       "      <td>0.267534</td>\n",
       "    </tr>\n",
       "    <tr>\n",
       "      <th>...</th>\n",
       "      <td>...</td>\n",
       "      <td>...</td>\n",
       "    </tr>\n",
       "    <tr>\n",
       "      <th>w2</th>\n",
       "      <td>0.298994</td>\n",
       "      <td>1.90076</td>\n",
       "    </tr>\n",
       "    <tr>\n",
       "      <th>w2</th>\n",
       "      <td>2.09469</td>\n",
       "      <td>1.24901</td>\n",
       "    </tr>\n",
       "    <tr>\n",
       "      <th>w2</th>\n",
       "      <td>-0.46888</td>\n",
       "      <td>2.32068</td>\n",
       "    </tr>\n",
       "    <tr>\n",
       "      <th>w2</th>\n",
       "      <td>0.37996</td>\n",
       "      <td>2.24545</td>\n",
       "    </tr>\n",
       "    <tr>\n",
       "      <th>w2</th>\n",
       "      <td>0.746769</td>\n",
       "      <td>1.37629</td>\n",
       "    </tr>\n",
       "  </tbody>\n",
       "</table>\n",
       "<p>5000 rows × 2 columns</p>\n",
       "</div>"
      ],
      "text/plain": [
       "      xcordinate ycordinate\n",
       "class                      \n",
       "w1     -0.234797  -0.647468\n",
       "w1     -0.551399  0.0774913\n",
       "w1     -0.817795  0.0304477\n",
       "w1       0.81067   0.362171\n",
       "w1     -0.474285   0.267534\n",
       "...          ...        ...\n",
       "w2      0.298994    1.90076\n",
       "w2       2.09469    1.24901\n",
       "w2      -0.46888    2.32068\n",
       "w2       0.37996    2.24545\n",
       "w2      0.746769    1.37629\n",
       "\n",
       "[5000 rows x 2 columns]"
      ]
     },
     "execution_count": 14,
     "metadata": {},
     "output_type": "execute_result"
    }
   ],
   "source": [
    "frame=[df_1,df2_1]\n",
    "X2=pd.concat(frame)\n",
    "X2"
   ]
  },
  {
   "cell_type": "markdown",
   "metadata": {},
   "source": [
    "EXTRACT CLASS ATTRIBUTE FROM X2 AND ASSIGN IT TO TEST_CLASS"
   ]
  },
  {
   "cell_type": "code",
   "execution_count": 15,
   "metadata": {},
   "outputs": [],
   "source": [
    "test_class = list(X2.index)\n"
   ]
  },
  {
   "cell_type": "markdown",
   "metadata": {},
   "source": [
    "EXTRACT ALL FEATURES EXCEPT CLASS LABEL FROM X2 AND ASSIGN IT TO TEST_LIST"
   ]
  },
  {
   "cell_type": "code",
   "execution_count": 107,
   "metadata": {
    "scrolled": false
   },
   "outputs": [],
   "source": [
    "test_list = []\n",
    "for index, rows in X2.iterrows():\n",
    "    my_list =[rows.xcordinate, rows.ycordinate]       \n",
    "    test_list.append(my_list)"
   ]
  },
  {
   "cell_type": "markdown",
   "metadata": {},
   "source": [
    "FUNCTION THAT COMPUTE EUCLIDEAN DISTANCE BETWEEN 2 POINTS"
   ]
  },
  {
   "cell_type": "code",
   "execution_count": 86,
   "metadata": {},
   "outputs": [],
   "source": [
    "def euclideanDistance(data_1, data_2):\n",
    "    dist = 0\n",
    "    for i in range(1):\n",
    "        dist = dist + np.square(data_1[i] - data_2[i])\n",
    "    return np.sqrt(dist),data_2.name"
   ]
  },
  {
   "cell_type": "markdown",
   "metadata": {},
   "source": [
    "COMPUTE EUCLIDEAN DISTANCE BETWEEN EACH TEST DATA AND TRAIN DATA"
   ]
  },
  {
   "cell_type": "code",
   "execution_count": 151,
   "metadata": {},
   "outputs": [],
   "source": [
    "test_length = len(test_list)\n",
    "train_length=len(X1)\n",
    "distance=[]\n",
    "label=[]\n",
    "for i in range(test_length):\n",
    "    for j in range(train_length):\n",
    "            distance.append(euclideanDistance(test_list[i],X1.iloc[j]))\n",
    "    label.append(min(distance)[1])\n",
    "    "
   ]
  },
  {
   "cell_type": "markdown",
   "metadata": {},
   "source": [
    "COMPUTE THE ERROR RATE OF THIS CLASSIFICATION"
   ]
  },
  {
   "cell_type": "code",
   "execution_count": 154,
   "metadata": {},
   "outputs": [
    {
     "name": "stdout",
     "output_type": "stream",
     "text": [
      "Error rate of this classification is 0.4926\n",
      "That is out of 5000 test data 2463 test data is wrongly classified\n"
     ]
    }
   ],
   "source": [
    "length=len(label)\n",
    "err_count=0\n",
    "for i in range(length):\n",
    "    if label[i] != test_class[i]:\n",
    "        err_count=err_count+1\n",
    "        \n",
    "err_rate=err_count/length\n",
    "print(\"Error rate of this classification is\",err_rate)\n",
    "print(\"That is out of\",length,\"test data\",err_count,\"test data is wrongly classified\")"
   ]
  }
 ],
 "metadata": {
  "kernelspec": {
   "display_name": "Python 3",
   "language": "python",
   "name": "python3"
  },
  "language_info": {
   "codemirror_mode": {
    "name": "ipython",
    "version": 3
   },
   "file_extension": ".py",
   "mimetype": "text/x-python",
   "name": "python",
   "nbconvert_exporter": "python",
   "pygments_lexer": "ipython3",
   "version": "3.8.5"
  }
 },
 "nbformat": 4,
 "nbformat_minor": 4
}
